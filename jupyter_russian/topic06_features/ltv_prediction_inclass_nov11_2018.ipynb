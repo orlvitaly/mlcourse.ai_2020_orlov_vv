{
 "cells": [
  {
   "cell_type": "code",
   "execution_count": 1,
   "metadata": {},
   "outputs": [],
   "source": [
    "import numpy as np\n",
    "import pandas as pd\n",
    "pd.set_option('display.max.columns', 50)\n",
    "from matplotlib import pyplot as plt\n",
    "import seaborn as sns\n",
    "sns.set()"
   ]
  },
  {
   "cell_type": "code",
   "execution_count": 2,
   "metadata": {},
   "outputs": [],
   "source": [
    "df = pd.read_csv('../../data/train_models_37_60_ltv30_from_2017-06-18_to_2018-06-18.csv.gz')"
   ]
  },
  {
   "cell_type": "code",
   "execution_count": 65,
   "metadata": {},
   "outputs": [
    {
     "data": {
      "text/plain": [
       "Index(['idApp', 'idProfile', 'idfa', 'idfv', 'gaid', 'android_id', 'imei',\n",
       "       'waid', 'idDevice', 'dt', 'ltvDay1', 'ltvDay2', 'ltvDay3', 'ltvDay4',\n",
       "       'ltvDay5', 'ltvDay6', 'ltvDay7', 'ltvDay8', 'ltvDay30', 'ltvDay60',\n",
       "       'ltvDay90'],\n",
       "      dtype='object')"
      ]
     },
     "execution_count": 65,
     "metadata": {},
     "output_type": "execute_result"
    }
   ],
   "source": [
    "df.columns"
   ]
  },
  {
   "cell_type": "code",
   "execution_count": 3,
   "metadata": {
    "scrolled": true
   },
   "outputs": [
    {
     "data": {
      "text/html": [
       "<div>\n",
       "<style scoped>\n",
       "    .dataframe tbody tr th:only-of-type {\n",
       "        vertical-align: middle;\n",
       "    }\n",
       "\n",
       "    .dataframe tbody tr th {\n",
       "        vertical-align: top;\n",
       "    }\n",
       "\n",
       "    .dataframe thead th {\n",
       "        text-align: right;\n",
       "    }\n",
       "</style>\n",
       "<table border=\"1\" class=\"dataframe\">\n",
       "  <thead>\n",
       "    <tr style=\"text-align: right;\">\n",
       "      <th></th>\n",
       "      <th>idApp</th>\n",
       "      <th>idProfile</th>\n",
       "      <th>idfa</th>\n",
       "      <th>idfv</th>\n",
       "      <th>gaid</th>\n",
       "      <th>android_id</th>\n",
       "      <th>imei</th>\n",
       "      <th>waid</th>\n",
       "      <th>idDevice</th>\n",
       "      <th>dt</th>\n",
       "      <th>ltvDay1</th>\n",
       "      <th>ltvDay2</th>\n",
       "      <th>ltvDay3</th>\n",
       "      <th>ltvDay4</th>\n",
       "      <th>ltvDay5</th>\n",
       "      <th>ltvDay6</th>\n",
       "      <th>ltvDay7</th>\n",
       "      <th>ltvDay8</th>\n",
       "      <th>ltvDay30</th>\n",
       "      <th>ltvDay60</th>\n",
       "      <th>ltvDay90</th>\n",
       "    </tr>\n",
       "  </thead>\n",
       "  <tbody>\n",
       "    <tr>\n",
       "      <th>0</th>\n",
       "      <td>279</td>\n",
       "      <td>921502265</td>\n",
       "      <td>00000000-0000-0000-0000-000000000000</td>\n",
       "      <td>00000000-0000-0000-0000-000000000000</td>\n",
       "      <td>522c7ec0-ea35-4610-84b6-21833f6773e0</td>\n",
       "      <td>9B74D5FF330E3669</td>\n",
       "      <td>352691083826594</td>\n",
       "      <td>0</td>\n",
       "      <td>550271531</td>\n",
       "      <td>2018-02-18</td>\n",
       "      <td>0</td>\n",
       "      <td>0</td>\n",
       "      <td>0</td>\n",
       "      <td>2190000</td>\n",
       "      <td>2190000</td>\n",
       "      <td>2190000</td>\n",
       "      <td>5780000</td>\n",
       "      <td>5780000</td>\n",
       "      <td>5780000</td>\n",
       "      <td>5780000</td>\n",
       "      <td>5780000</td>\n",
       "    </tr>\n",
       "    <tr>\n",
       "      <th>1</th>\n",
       "      <td>279</td>\n",
       "      <td>987232492</td>\n",
       "      <td>00000000-0000-0000-0000-000000000000</td>\n",
       "      <td>00000000-0000-0000-0000-000000000000</td>\n",
       "      <td>4f7b775d-ed1c-4890-8f7a-142a338ec1cd</td>\n",
       "      <td>B5119F4EA129AA66</td>\n",
       "      <td>13047384755529164800</td>\n",
       "      <td>0</td>\n",
       "      <td>253693815</td>\n",
       "      <td>2018-04-20</td>\n",
       "      <td>0</td>\n",
       "      <td>0</td>\n",
       "      <td>0</td>\n",
       "      <td>0</td>\n",
       "      <td>0</td>\n",
       "      <td>0</td>\n",
       "      <td>0</td>\n",
       "      <td>0</td>\n",
       "      <td>0</td>\n",
       "      <td>875276</td>\n",
       "      <td>875276</td>\n",
       "    </tr>\n",
       "    <tr>\n",
       "      <th>2</th>\n",
       "      <td>5620</td>\n",
       "      <td>788603874</td>\n",
       "      <td>00000000-0000-0000-0000-000000000000</td>\n",
       "      <td>00000000-0000-0000-0000-000000000000</td>\n",
       "      <td>00000000-0000-0000-0000-000000000000</td>\n",
       "      <td>0000000000000000</td>\n",
       "      <td>0</td>\n",
       "      <td>0</td>\n",
       "      <td>209555674</td>\n",
       "      <td>2017-09-28</td>\n",
       "      <td>0</td>\n",
       "      <td>0</td>\n",
       "      <td>0</td>\n",
       "      <td>0</td>\n",
       "      <td>0</td>\n",
       "      <td>0</td>\n",
       "      <td>0</td>\n",
       "      <td>0</td>\n",
       "      <td>0</td>\n",
       "      <td>2980000</td>\n",
       "      <td>2980000</td>\n",
       "    </tr>\n",
       "    <tr>\n",
       "      <th>3</th>\n",
       "      <td>279</td>\n",
       "      <td>853565500</td>\n",
       "      <td>00000000-0000-0000-0000-000000000000</td>\n",
       "      <td>00000000-0000-0000-0000-000000000000</td>\n",
       "      <td>316df861-9c5a-454d-baf8-24c43de4a67f</td>\n",
       "      <td>43F46756E53CBDFF</td>\n",
       "      <td>0</td>\n",
       "      <td>0</td>\n",
       "      <td>542244336</td>\n",
       "      <td>2017-12-11</td>\n",
       "      <td>0</td>\n",
       "      <td>0</td>\n",
       "      <td>0</td>\n",
       "      <td>0</td>\n",
       "      <td>0</td>\n",
       "      <td>0</td>\n",
       "      <td>0</td>\n",
       "      <td>3652414</td>\n",
       "      <td>12123190</td>\n",
       "      <td>30737676</td>\n",
       "      <td>33594119</td>\n",
       "    </tr>\n",
       "    <tr>\n",
       "      <th>4</th>\n",
       "      <td>5620</td>\n",
       "      <td>909916243</td>\n",
       "      <td>b108e064-97d6-46f8-8374-2de57327a400</td>\n",
       "      <td>1540dbd8-f8c9-4130-b8e8-8737affe7d8b</td>\n",
       "      <td>00000000-0000-0000-0000-000000000000</td>\n",
       "      <td>0000000000000000</td>\n",
       "      <td>0</td>\n",
       "      <td>0</td>\n",
       "      <td>501760121</td>\n",
       "      <td>2018-02-06</td>\n",
       "      <td>1490000</td>\n",
       "      <td>1490000</td>\n",
       "      <td>1490000</td>\n",
       "      <td>1490000</td>\n",
       "      <td>1490000</td>\n",
       "      <td>1490000</td>\n",
       "      <td>1490000</td>\n",
       "      <td>1490000</td>\n",
       "      <td>1490000</td>\n",
       "      <td>1490000</td>\n",
       "      <td>1490000</td>\n",
       "    </tr>\n",
       "  </tbody>\n",
       "</table>\n",
       "</div>"
      ],
      "text/plain": [
       "   idApp  idProfile                                  idfa  \\\n",
       "0    279  921502265  00000000-0000-0000-0000-000000000000   \n",
       "1    279  987232492  00000000-0000-0000-0000-000000000000   \n",
       "2   5620  788603874  00000000-0000-0000-0000-000000000000   \n",
       "3    279  853565500  00000000-0000-0000-0000-000000000000   \n",
       "4   5620  909916243  b108e064-97d6-46f8-8374-2de57327a400   \n",
       "\n",
       "                                   idfv                                  gaid  \\\n",
       "0  00000000-0000-0000-0000-000000000000  522c7ec0-ea35-4610-84b6-21833f6773e0   \n",
       "1  00000000-0000-0000-0000-000000000000  4f7b775d-ed1c-4890-8f7a-142a338ec1cd   \n",
       "2  00000000-0000-0000-0000-000000000000  00000000-0000-0000-0000-000000000000   \n",
       "3  00000000-0000-0000-0000-000000000000  316df861-9c5a-454d-baf8-24c43de4a67f   \n",
       "4  1540dbd8-f8c9-4130-b8e8-8737affe7d8b  00000000-0000-0000-0000-000000000000   \n",
       "\n",
       "         android_id                  imei  waid   idDevice          dt  \\\n",
       "0  9B74D5FF330E3669       352691083826594     0  550271531  2018-02-18   \n",
       "1  B5119F4EA129AA66  13047384755529164800     0  253693815  2018-04-20   \n",
       "2  0000000000000000                     0     0  209555674  2017-09-28   \n",
       "3  43F46756E53CBDFF                     0     0  542244336  2017-12-11   \n",
       "4  0000000000000000                     0     0  501760121  2018-02-06   \n",
       "\n",
       "   ltvDay1  ltvDay2  ltvDay3  ltvDay4  ltvDay5  ltvDay6  ltvDay7  ltvDay8  \\\n",
       "0        0        0        0  2190000  2190000  2190000  5780000  5780000   \n",
       "1        0        0        0        0        0        0        0        0   \n",
       "2        0        0        0        0        0        0        0        0   \n",
       "3        0        0        0        0        0        0        0  3652414   \n",
       "4  1490000  1490000  1490000  1490000  1490000  1490000  1490000  1490000   \n",
       "\n",
       "   ltvDay30  ltvDay60  ltvDay90  \n",
       "0   5780000   5780000   5780000  \n",
       "1         0    875276    875276  \n",
       "2         0   2980000   2980000  \n",
       "3  12123190  30737676  33594119  \n",
       "4   1490000   1490000   1490000  "
      ]
     },
     "execution_count": 3,
     "metadata": {},
     "output_type": "execute_result"
    }
   ],
   "source": [
    "df.head()"
   ]
  },
  {
   "cell_type": "code",
   "execution_count": 4,
   "metadata": {
    "scrolled": true
   },
   "outputs": [
    {
     "data": {
      "text/plain": [
       "(3324150, 21)"
      ]
     },
     "execution_count": 4,
     "metadata": {},
     "output_type": "execute_result"
    }
   ],
   "source": [
    "df.shape"
   ]
  },
  {
   "cell_type": "code",
   "execution_count": 5,
   "metadata": {},
   "outputs": [
    {
     "data": {
      "text/plain": [
       "130"
      ]
     },
     "execution_count": 5,
     "metadata": {},
     "output_type": "execute_result"
    }
   ],
   "source": [
    "df.idApp.nunique()"
   ]
  },
  {
   "cell_type": "code",
   "execution_count": 6,
   "metadata": {},
   "outputs": [
    {
     "data": {
      "text/plain": [
       "Index(['idApp', 'idProfile', 'idfa', 'idfv', 'gaid', 'android_id', 'imei',\n",
       "       'waid', 'idDevice', 'dt', 'ltvDay1', 'ltvDay2', 'ltvDay3', 'ltvDay4',\n",
       "       'ltvDay5', 'ltvDay6', 'ltvDay7', 'ltvDay8', 'ltvDay30', 'ltvDay60',\n",
       "       'ltvDay90'],\n",
       "      dtype='object')"
      ]
     },
     "execution_count": 6,
     "metadata": {},
     "output_type": "execute_result"
    }
   ],
   "source": [
    "df.columns"
   ]
  },
  {
   "cell_type": "code",
   "execution_count": 7,
   "metadata": {},
   "outputs": [
    {
     "data": {
      "text/plain": [
       "5620    1077387\n",
       "279      532735\n",
       "5619     484202\n",
       "278      282209\n",
       "313      221160\n",
       "314      166953\n",
       "95       129041\n",
       "5645     115304\n",
       "5644      53333\n",
       "156       48223\n",
       "59        36146\n",
       "152       27755\n",
       "73        27033\n",
       "157       14035\n",
       "160       12427\n",
       "Name: idApp, dtype: int64"
      ]
     },
     "execution_count": 7,
     "metadata": {},
     "output_type": "execute_result"
    }
   ],
   "source": [
    "df.idApp.value_counts().head(15)"
   ]
  },
  {
   "cell_type": "code",
   "execution_count": 8,
   "metadata": {},
   "outputs": [
    {
     "data": {
      "image/png": "[encoded data removed]",
      "text/plain": [
       "<Figure size 432x288 with 1 Axes>"
      ]
     },
     "metadata": {
      "needs_background": "light"
     },
     "output_type": "display_data"
    }
   ],
   "source": [
    "df.loc[df['idApp'] == 5620, 'ltvDay30'].apply(np.log1p).hist();"
   ]
  },
  {
   "cell_type": "code",
   "execution_count": 9,
   "metadata": {},
   "outputs": [
    {
     "data": {
      "image/png": "[encoded data removed]",
      "text/plain": [
       "<Figure size 432x288 with 1 Axes>"
      ]
     },
     "metadata": {
      "needs_background": "light"
     },
     "output_type": "display_data"
    }
   ],
   "source": [
    "df.loc[(df['idApp'] == 5620) &\n",
    "       (df['ltvDay30'] > 0), 'ltvDay30'].hist(bins=30);"
   ]
  },
  {
   "cell_type": "code",
   "execution_count": 10,
   "metadata": {},
   "outputs": [
    {
     "data": {
      "image/png": "[encoded data removed]",
      "text/plain": [
       "<Figure size 432x288 with 1 Axes>"
      ]
     },
     "metadata": {
      "needs_background": "light"
     },
     "output_type": "display_data"
    }
   ],
   "source": [
    "plt.scatter(df.loc[df['idApp'] == 5620, 'ltvDay8'],\n",
    "           df.loc[df['idApp'] == 5620, 'ltvDay30']);"
   ]
  },
  {
   "cell_type": "code",
   "execution_count": 11,
   "metadata": {},
   "outputs": [
    {
     "data": {
      "text/plain": [
       "('2017-06-18', '2018-06-18')"
      ]
     },
     "execution_count": 11,
     "metadata": {},
     "output_type": "execute_result"
    }
   ],
   "source": [
    "df.dt.min(), df.dt.max()"
   ]
  },
  {
   "cell_type": "code",
   "execution_count": 12,
   "metadata": {},
   "outputs": [],
   "source": [
    "ID_APP = 160"
   ]
  },
  {
   "cell_type": "code",
   "execution_count": 13,
   "metadata": {},
   "outputs": [],
   "source": [
    "train_df = df[(df.idApp == ID_APP) & (df.dt >= '2018-01-01')\n",
    "             &  (df.dt <=  '2018-02-28')]\n",
    "valid_df = df[(df.idApp == ID_APP) & (df.dt >= '2018-04-01')\n",
    "             &  (df.dt <=  '2018-04-30')]"
   ]
  },
  {
   "cell_type": "code",
   "execution_count": 14,
   "metadata": {},
   "outputs": [
    {
     "data": {
      "text/plain": [
       "((1880, 21), (789, 21))"
      ]
     },
     "execution_count": 14,
     "metadata": {},
     "output_type": "execute_result"
    }
   ],
   "source": [
    "train_df.shape, valid_df.shape"
   ]
  },
  {
   "cell_type": "code",
   "execution_count": 15,
   "metadata": {},
   "outputs": [],
   "source": [
    "features = ['ltvDay%d' % i for i in range(1, 9)]"
   ]
  },
  {
   "cell_type": "code",
   "execution_count": 16,
   "metadata": {},
   "outputs": [
    {
     "data": {
      "text/plain": [
       "['ltvDay1',\n",
       " 'ltvDay2',\n",
       " 'ltvDay3',\n",
       " 'ltvDay4',\n",
       " 'ltvDay5',\n",
       " 'ltvDay6',\n",
       " 'ltvDay7',\n",
       " 'ltvDay8']"
      ]
     },
     "execution_count": 16,
     "metadata": {},
     "output_type": "execute_result"
    }
   ],
   "source": [
    "features"
   ]
  },
  {
   "cell_type": "code",
   "execution_count": 17,
   "metadata": {},
   "outputs": [],
   "source": [
    "X_train, X_valid = train_df[features], valid_df[features]\n",
    "y_train, y_valid = train_df.ltvDay30, valid_df.ltvDay30"
   ]
  },
  {
   "cell_type": "code",
   "execution_count": null,
   "metadata": {},
   "outputs": [],
   "source": []
  },
  {
   "cell_type": "code",
   "execution_count": 18,
   "metadata": {},
   "outputs": [],
   "source": [
    "from sklearn.linear_model import Ridge"
   ]
  },
  {
   "cell_type": "code",
   "execution_count": 36,
   "metadata": {},
   "outputs": [],
   "source": [
    "ridge = Ridge(random_state=17, normalize=True)"
   ]
  },
  {
   "cell_type": "code",
   "execution_count": 37,
   "metadata": {},
   "outputs": [
    {
     "data": {
      "text/plain": [
       "Ridge(alpha=1.0, copy_X=True, fit_intercept=True, max_iter=None,\n",
       "   normalize=True, random_state=17, solver='auto', tol=0.001)"
      ]
     },
     "execution_count": 37,
     "metadata": {},
     "output_type": "execute_result"
    }
   ],
   "source": [
    "ridge.fit(X_train, y_train)"
   ]
  },
  {
   "cell_type": "code",
   "execution_count": 38,
   "metadata": {},
   "outputs": [],
   "source": [
    "pred = ridge.predict(X_valid)"
   ]
  },
  {
   "cell_type": "code",
   "execution_count": 39,
   "metadata": {},
   "outputs": [
    {
     "data": {
      "image/png": "[encoded data removed]",
      "text/plain": [
       "<Figure size 432x288 with 1 Axes>"
      ]
     },
     "metadata": {
      "needs_background": "light"
     },
     "output_type": "display_data"
    }
   ],
   "source": [
    "plt.hist(np.log1p(pred), alpha=0.5, label='pred')\n",
    "plt.hist(np.log1p(y_valid), alpha=0.5, label='real')\n",
    "plt.legend();"
   ]
  },
  {
   "cell_type": "code",
   "execution_count": 40,
   "metadata": {},
   "outputs": [
    {
     "data": {
      "text/plain": [
       "(32994064281.883736, 31342917428)"
      ]
     },
     "execution_count": 40,
     "metadata": {},
     "output_type": "execute_result"
    }
   ],
   "source": [
    "pred.sum(), y_valid.sum()"
   ]
  },
  {
   "cell_type": "code",
   "execution_count": 41,
   "metadata": {},
   "outputs": [],
   "source": [
    "error = pred.sum() / y_valid.sum() - 1"
   ]
  },
  {
   "cell_type": "code",
   "execution_count": 42,
   "metadata": {},
   "outputs": [
    {
     "data": {
      "text/plain": [
       "5.27"
      ]
     },
     "execution_count": 42,
     "metadata": {},
     "output_type": "execute_result"
    }
   ],
   "source": [
    "round(100 * error, 2)"
   ]
  },
  {
   "cell_type": "code",
   "execution_count": 43,
   "metadata": {},
   "outputs": [
    {
     "data": {
      "text/plain": [
       "(array([0.09136699, 0.1069909 , 0.11506607, 0.11947837, 0.12411832,\n",
       "        0.12769609, 0.13527976, 0.14695451]), 17510528.61508203)"
      ]
     },
     "execution_count": 43,
     "metadata": {},
     "output_type": "execute_result"
    }
   ],
   "source": [
    "ridge.coef_, ridge.intercept_"
   ]
  },
  {
   "cell_type": "code",
   "execution_count": 44,
   "metadata": {},
   "outputs": [
    {
     "data": {
      "text/plain": [
       "0    2018-02-18\n",
       "1    2018-04-20\n",
       "2    2017-09-28\n",
       "3    2017-12-11\n",
       "4    2018-02-06\n",
       "Name: dt, dtype: object"
      ]
     },
     "execution_count": 44,
     "metadata": {},
     "output_type": "execute_result"
    }
   ],
   "source": [
    "df.dt.head()"
   ]
  },
  {
   "cell_type": "code",
   "execution_count": 45,
   "metadata": {},
   "outputs": [],
   "source": [
    "df.dt = pd.to_datetime(df.dt)"
   ]
  },
  {
   "cell_type": "code",
   "execution_count": 46,
   "metadata": {},
   "outputs": [
    {
     "data": {
      "text/plain": [
       "0   2018-02-18\n",
       "1   2018-04-20\n",
       "2   2017-09-28\n",
       "3   2017-12-11\n",
       "4   2018-02-06\n",
       "Name: dt, dtype: datetime64[ns]"
      ]
     },
     "execution_count": 46,
     "metadata": {},
     "output_type": "execute_result"
    }
   ],
   "source": [
    "df.dt.head()"
   ]
  },
  {
   "cell_type": "code",
   "execution_count": 47,
   "metadata": {},
   "outputs": [],
   "source": [
    "from datetime import timedelta, datetime"
   ]
  },
  {
   "cell_type": "code",
   "execution_count": 48,
   "metadata": {},
   "outputs": [
    {
     "data": {
      "text/plain": [
       "Timestamp('2018-02-18 00:00:00')"
      ]
     },
     "execution_count": 48,
     "metadata": {},
     "output_type": "execute_result"
    }
   ],
   "source": [
    "df.dt.loc[0]"
   ]
  },
  {
   "cell_type": "code",
   "execution_count": 49,
   "metadata": {},
   "outputs": [
    {
     "data": {
      "text/plain": [
       "Timestamp('2018-02-19 00:00:00')"
      ]
     },
     "execution_count": 49,
     "metadata": {},
     "output_type": "execute_result"
    }
   ],
   "source": [
    "df.dt.loc[0] + timedelta(days=1)"
   ]
  },
  {
   "cell_type": "code",
   "execution_count": 50,
   "metadata": {},
   "outputs": [],
   "source": [
    "step = 30"
   ]
  },
  {
   "cell_type": "code",
   "execution_count": 51,
   "metadata": {},
   "outputs": [],
   "source": [
    "MIN_TRAIN_SIZE = 1000"
   ]
  },
  {
   "cell_type": "code",
   "execution_count": 52,
   "metadata": {},
   "outputs": [],
   "source": [
    "import warnings\n",
    "warnings.filterwarnings('ignore')"
   ]
  },
  {
   "cell_type": "code",
   "execution_count": 53,
   "metadata": {},
   "outputs": [],
   "source": [
    "train_start = df.dt.min()\n",
    "train_end = train_start + timedelta(days=60)\n",
    "\n",
    "test_start = train_start + timedelta(days=90)\n",
    "test_end = train_start + timedelta(days=120)"
   ]
  },
  {
   "cell_type": "code",
   "execution_count": 54,
   "metadata": {},
   "outputs": [],
   "source": [
    "errors = {}\n",
    "\n",
    "while test_end < df.dt.max():\n",
    "    \n",
    "    train_df = df[(df.dt >= train_start) & (df.dt < train_end)]\n",
    "    valid_df = df[(df.dt >= test_start) & (df.dt < test_end)]\n",
    "    \n",
    "    \n",
    "    for id_app, sub_df in train_df.groupby('idApp'):\n",
    "        \n",
    "        X, y = sub_df[features], sub_df.ltvDay30\n",
    "        X_valid = valid_df.loc[valid_df['idApp'] == id_app, features]\n",
    "        y_valid = valid_df.loc[valid_df['idApp'] == id_app, 'ltvDay30']\n",
    "        \n",
    "        if X.shape[0] >= MIN_TRAIN_SIZE and X_valid.shape[0] > 0:\n",
    "            ridge.fit(X, y)\n",
    "            pred = ridge.predict(X_valid)\n",
    "            \n",
    "            error = pred.sum() / y_valid.sum() - 1\n",
    "        \n",
    "            \n",
    "            if id_app in errors:\n",
    "                if errors[id_app]:\n",
    "                    errors[id_app].append(error)\n",
    "                else:\n",
    "                    errors[id_app] = [error]\n",
    "            else:\n",
    "                errors[id_app] = [error]\n",
    "            \n",
    "    \n",
    "    train_start += timedelta(days=step)\n",
    "    train_end += timedelta(days=step)\n",
    "    test_start += timedelta(days=step)\n",
    "    test_end += timedelta(days=step)"
   ]
  },
  {
   "cell_type": "code",
   "execution_count": 55,
   "metadata": {},
   "outputs": [],
   "source": [
    "top5_apps = df.idApp.value_counts().head(5).index"
   ]
  },
  {
   "cell_type": "code",
   "execution_count": 56,
   "metadata": {},
   "outputs": [
    {
     "data": {
      "text/plain": [
       "Int64Index([5620, 279, 5619, 278, 313], dtype='int64')"
      ]
     },
     "execution_count": 56,
     "metadata": {},
     "output_type": "execute_result"
    }
   ],
   "source": [
    "top5_apps"
   ]
  },
  {
   "cell_type": "code",
   "execution_count": 57,
   "metadata": {},
   "outputs": [
    {
     "data": {
      "image/png": "[encoded data removed]",
      "text/plain": [
       "<Figure size 432x288 with 1 Axes>"
      ]
     },
     "metadata": {
      "needs_background": "light"
     },
     "output_type": "display_data"
    }
   ],
   "source": [
    "for id_app in top5_apps:\n",
    "    plt.plot(list(range(len(errors[id_app]))), errors[id_app], label=id_app);\n",
    "plt.legend();"
   ]
  },
  {
   "cell_type": "code",
   "execution_count": 58,
   "metadata": {},
   "outputs": [],
   "source": [
    "five_apps = df.idApp.value_counts().iloc[5:10].index"
   ]
  },
  {
   "cell_type": "code",
   "execution_count": 59,
   "metadata": {},
   "outputs": [
    {
     "data": {
      "text/plain": [
       "Int64Index([314, 95, 5645, 5644, 156], dtype='int64')"
      ]
     },
     "execution_count": 59,
     "metadata": {},
     "output_type": "execute_result"
    }
   ],
   "source": [
    "five_apps"
   ]
  },
  {
   "cell_type": "code",
   "execution_count": 60,
   "metadata": {},
   "outputs": [
    {
     "data": {
      "image/png": "[encoded data removed]",
      "text/plain": [
       "<Figure size 432x288 with 1 Axes>"
      ]
     },
     "metadata": {
      "needs_background": "light"
     },
     "output_type": "display_data"
    }
   ],
   "source": [
    "for id_app in five_apps:\n",
    "    plt.plot(list(range(len(errors[id_app]))), errors[id_app], label=id_app);\n",
    "plt.legend();"
   ]
  },
  {
   "cell_type": "code",
   "execution_count": 61,
   "metadata": {},
   "outputs": [],
   "source": [
    "five_apps = df.idApp.value_counts().iloc[10:15].index"
   ]
  },
  {
   "cell_type": "code",
   "execution_count": 62,
   "metadata": {},
   "outputs": [
    {
     "data": {
      "image/png": "[encoded data removed]",
      "text/plain": [
       "<Figure size 432x288 with 1 Axes>"
      ]
     },
     "metadata": {
      "needs_background": "light"
     },
     "output_type": "display_data"
    }
   ],
   "source": [
    "for id_app in five_apps:\n",
    "    plt.plot(list(range(len(errors[id_app]))), errors[id_app], label=id_app);\n",
    "plt.legend();"
   ]
  },
  {
   "cell_type": "code",
   "execution_count": 63,
   "metadata": {},
   "outputs": [],
   "source": [
    "five_apps = df.idApp.value_counts().iloc[15:20].index"
   ]
  },
  {
   "cell_type": "code",
   "execution_count": 64,
   "metadata": {},
   "outputs": [
    {
     "data": {
      "image/png": "[encoded data removed]",
      "text/plain": [
       "<Figure size 432x288 with 1 Axes>"
      ]
     },
     "metadata": {
      "needs_background": "light"
     },
     "output_type": "display_data"
    }
   ],
   "source": [
    "for id_app in five_apps:\n",
    "    if id_app in errors:\n",
    "        plt.plot(list(range(len(errors[id_app]))), errors[id_app], label=id_app);\n",
    "plt.legend();"
   ]
  }
 ],
 "metadata": {
  "kernelspec": {
   "display_name": "Python 3",
   "language": "python",
   "name": "python3"
  },
  "language_info": {
   "codemirror_mode": {
    "name": "ipython",
    "version": 3
   },
   "file_extension": ".py",
   "mimetype": "text/x-python",
   "name": "python",
   "nbconvert_exporter": "python",
   "pygments_lexer": "ipython3",
   "version": "3.7.6"
  }
 },
 "nbformat": 4,
 "nbformat_minor": 2
}
